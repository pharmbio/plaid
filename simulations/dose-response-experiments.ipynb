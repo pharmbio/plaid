{
 "cells": [
  {
   "cell_type": "markdown",
   "metadata": {},
   "source": [
    "# Dose Response Study\n",
    "\n",
    "Simulating dose response experiments.\n",
    "\n",
    "We begin by importing required packages."
   ]
  },
  {
   "cell_type": "code",
   "execution_count": 1,
   "metadata": {},
   "outputs": [],
   "source": [
    "import numpy as np\n",
    "import pandas as pd\n",
    "import seaborn as sns\n",
    "import matplotlib.pyplot as plt\n",
    "import scipy.optimize as opt\n",
    "import statistics\n",
    "from scipy import stats\n",
    "import os\n",
    "import re\n",
    "import ptitprince as pt #rain plots\n",
    "from datetime import date\n",
    "\n",
    "import libraries.disturbances as dt\n",
    "import libraries.normalization as nrm\n",
    "import libraries.dose_response as dr\n",
    "import libraries.utilities as util"
   ]
  },
  {
   "cell_type": "code",
   "execution_count": null,
   "metadata": {},
   "outputs": [],
   "source": [
    "#absolute_ic50_data-36-8-dil8-1-0.4-20220413-right-half-neg-control-log-new-reg"
   ]
  },
  {
   "cell_type": "markdown",
   "metadata": {},
   "source": [
    "## Data Generation\n",
    "\n",
    "Here you can specify the particulars of the experiment."
   ]
  },
  {
   "cell_type": "code",
   "execution_count": 2,
   "metadata": {},
   "outputs": [],
   "source": [
    "## Simulation parameters\n",
    "## Ensure the appropriate PLAID layouts exist under \"layouts/compounds_PLAID_layouts\"\n",
    "\n",
    "concentrations = 8 #Possible to use 4, 6, 8\n",
    "replicates = 1\n",
    "\n",
    "# Total number of compounds that fit in a 384 well-plate after leaving the outer wells empty\n",
    "# \n",
    "compounds = (14*22-20)//(concentrations*replicates)\n",
    "\n",
    "if concentrations == 4:\n",
    "    dilution = 15\n",
    "elif concentrations == 6:\n",
    "    dilution = 18\n",
    "elif concentrations == 8:\n",
    "    dilution = 8\n",
    "elif concentrations == 12:\n",
    "    dilution = 4\n",
    "else:\n",
    "    print(\"Please specify the dilution factor\")\n",
    "\n",
    "id_text = \"delete\"\n",
    "\n",
    "#expected_noise = 0.01\n",
    "\n",
    "error_nl = 0.4 \n",
    "\n",
    "#my_min_dist = 0"
   ]
  },
  {
   "cell_type": "code",
   "execution_count": 3,
   "metadata": {},
   "outputs": [],
   "source": [
    "\n",
    "\n",
    "#error_types = [{'type':\"right-exp\", 'error_function':dt.add_exponential_errors_to_right_columns,'error_correction':nrm.normalize_plate_column_effect,'error':error_nl}]\n",
    "error_types = [{'type':\"right-half\", 'error_function':dt.add_errors_to_right_columns_half,'error_correction':nrm.normalize_plate_nearest_control,'error':error_nl}]\n",
    "#error_types = [{'type':\"diagonal\", 'error_function':dt.add_diagonal_errors,'error_correction':nrm.normalize_plate_nearest_control,'error':error_nl}]\n",
    "#error_types = [{'type':\"bowl-nl\", 'error_function':dt.add_bowlshaped_errors_nl,'error_correction':nrm.normalize_plate_nearest_control,'error':error_nl}]\n",
    "               #{'type':\"bowl\", 'error_function':dt.add_bowlshaped_errors,'error_correction':nrm.normalize_plate_nearest_control,'error':error_l}]\n",
    "               #{'type':\"left-nl\", 'error_function':dt.add_errors_to_left_columns,'error_correction':nrm.normalize_plate_column_effect,'error':error_nl},\n",
    "               #{'type':\"left\", 'error_function':dt.add_linear_errors_to_left_columns,'error_correction':nrm.normalize_plate_column_effect,'error':error},\n",
    "               #{'type':\"right\", 'error_function':dt.add_linear_errors_to_right_columns,'error_correction':nrm.normalize_plate_column_effect,'error':error},\n",
    "               #{'type':\"top-nl\", 'error_function':dt.add_errors_to_upper_rows,'error_correction':nrm.normalize_plate_row_effect,'error':error_nl},\n",
    "               #{'type':\"top\", 'error_function':dt.add_linear_errors_to_upper_rows,'error_correction':nrm.normalize_plate_row_effect,'error':error},\n",
    "               #{'type':\"bottom\", 'error_function':dt.add_linear_errors_to_lower_rows,'error_correction':nrm.normalize_plate_row_effect,'error':error},\n",
    "               #{'type':\"left-exp\", 'error_function':dt.add_exponential_errors_to_left_columns,'error_correction':nrm.normalize_plate_column_effect,'error':error_nl},\n",
    "               #{'type':\"top-exp\", 'error_function':dt.add_exponential_errors_to_upper_rows,'error_correction':nrm.normalize_plate_row_effect,'error':error_nl}]\n",
    "#{'type':,error_function':,'error_correction':}\n",
    "\n",
    "\n",
    "plate_types_location = [{'type':'PLAID','dir':'layouts/compounds_PLAID_layouts/','regex':'plate_layout_(.*)'+str(compounds)+'-'+str(concentrations)+'-'+str(replicates)+'_(0*)(.+?).npy','error_correction':nrm.normalize_plate_lowess_2d},\n",
    "                        {'type':'RANDOM','dir':'layouts/compounds_manual_layouts/','regex':'plate_layout_rand_(.+?).npy','error_correction':nrm.normalize_plate_lowess_2d},\n",
    "                        {'type':'BORDER','dir':'layouts/compounds_manual_layouts/','regex':'plate_layout_border_(.+?).npy','error_correction':nrm.normalize_plate_linear}]\n",
    "\n",
    "\n",
    "\n"
   ]
  },
  {
   "cell_type": "code",
   "execution_count": 4,
   "metadata": {},
   "outputs": [],
   "source": [
    "e_from=1\n",
    "e_to=5##100\n",
    "e_step=5\n"
   ]
  },
  {
   "cell_type": "code",
   "execution_count": null,
   "metadata": {},
   "outputs": [],
   "source": [
    "#plate_types_location, error_types, e_from=1, e_to=100, e_step=5, lose_rows_from, lose_rows_to, "
   ]
  },
  {
   "cell_type": "code",
   "execution_count": null,
   "metadata": {},
   "outputs": [],
   "source": [
    "def full_dose_response_evaluation(plate_types_location, error_types, e_from=1, e_to=100, e_step=5, lose_rows_from=1, lose_rows_to=2):\n",
    "\n",
    "today = (date.today()).strftime(\"%Y%m%d\")+\"-\"+id_text\n",
    "\n",
    "## Results\n",
    "absolute_ic50_data_f=open('absolute_ic50_data-'+str(compounds)+'-'+str(concentrations)+'-dil'+str(dilution)+'-'+str(replicates)+'-'+str(error_nl)+'-'+today+'.csv','a')\n",
    "relative_ic50_data_f=open('relative_ic50_data-'+str(compounds)+'-'+str(concentrations)+'-dil'+str(dilution)+'-'+str(replicates)+'-'+str(error_nl)+'-'+today+'.csv','a')\n",
    "residuals_f=open('residuals-'+str(compounds)+'-'+str(concentrations)+'-dil'+str(dilution)+'-'+str(replicates)+'-'+str(error_nl)+'-'+today+'.csv','a')\n",
    "\n",
    "    for current_e in range(e_from,e_to,e_step):\n",
    "        print(\"\\nTesting compounds with e in range \",current_e,\"-\",(current_e+e_step),\":\")\n",
    "\n",
    "        # Create new curves/compounds\n",
    "\n",
    "        params = dr.generate_compound_curves(compounds,concentrations,dilution,current_e)\n",
    "\n",
    "        df_params = pd.DataFrame.from_dict(params)\n",
    "        df_params.set_index('compound',inplace=True)\n",
    "        df_params['abs IC50'] = dr.IC50(df_params['b'],df_params['c'],df_params['d'],df_params['e'])\n",
    "\n",
    "        compounds_array = df_params.index.to_numpy()\n",
    "\n",
    "        # The same compounds/concentrations will be used in every plate\n",
    "        plate_content = dr.generate_plate_content(dose_response_params=params, replicates=replicates)\n",
    "\n",
    "        for plate_type in plate_types_location:\n",
    "            print(\"Using \",plate_type['type'],\" layouts...\")\n",
    "            layout_dir = plate_type['dir']\n",
    "            layouts = os.listdir(layout_dir)\n",
    "\n",
    "            for layout_file in layouts:\n",
    "                match = re.search(plate_type['regex'],layout_file)\n",
    "\n",
    "                # Skip this file if it doesn't match the regular expression in plate_type['regex']\n",
    "                if match == None:\n",
    "                    continue\n",
    "\n",
    "                layout_file_array = np.full(len(compounds_array),layout_file)\n",
    "\n",
    "                e_array = np.full(len(compounds_array),current_e)\n",
    "\n",
    "                for et in error_types:\n",
    "                    error_type_array = np.full(len(compounds_array),et['type'])\n",
    "                    error_array = np.full(len(compounds_array),et['error'])    \n",
    "                    for lost_rows in range(1,2): #max 8\n",
    "                        limits = [#{'from':0, 'to':lost_rows},\n",
    "                                  {'from':16-lost_rows,'to':16}]\n",
    "                        for limit in limits:\n",
    "                            function(compounds_array,lost_rows,layout_file,plate_content,et,plate_type,limit,absolute_ic50_data_f,relative_ic50_data_f,residuals_f)    \n"
   ]
  },
  {
   "cell_type": "markdown",
   "metadata": {},
   "source": [
    "Now we place them on a plate, add a small random noise, apply plate effects error and correct them."
   ]
  },
  {
   "cell_type": "code",
   "execution_count": 7,
   "metadata": {},
   "outputs": [
    {
     "name": "stdout",
     "output_type": "stream",
     "text": [
      "Results are being stored in files which include the name:  36-8-dil8-1-0.4-20220426-delete\n",
      "\n",
      "Testing compounds with e in range  1 - 6 :\n",
      "Using  PLAID  layouts...\n"
     ]
    },
    {
     "ename": "ValueError",
     "evalue": "I/O operation on closed file.",
     "output_type": "error",
     "traceback": [
      "\u001b[0;31m---------------------------------------------------------------------------\u001b[0m",
      "\u001b[0;31mValueError\u001b[0m                                Traceback (most recent call last)",
      "\u001b[0;32m<ipython-input-7-d453fb289630>\u001b[0m in \u001b[0;36m<module>\u001b[0;34m\u001b[0m\n\u001b[1;32m     40\u001b[0m                               {'from':16-lost_rows,'to':16}]\n\u001b[1;32m     41\u001b[0m                     \u001b[0;32mfor\u001b[0m \u001b[0mlimit\u001b[0m \u001b[0;32min\u001b[0m \u001b[0mlimits\u001b[0m\u001b[0;34m:\u001b[0m\u001b[0;34m\u001b[0m\u001b[0;34m\u001b[0m\u001b[0m\n\u001b[0;32m---> 42\u001b[0;31m                         \u001b[0mfunction\u001b[0m\u001b[0;34m(\u001b[0m\u001b[0mcompounds_array\u001b[0m\u001b[0;34m,\u001b[0m\u001b[0mlost_rows\u001b[0m\u001b[0;34m,\u001b[0m\u001b[0mlayout_file\u001b[0m\u001b[0;34m,\u001b[0m\u001b[0mplate_content\u001b[0m\u001b[0;34m,\u001b[0m\u001b[0met\u001b[0m\u001b[0;34m,\u001b[0m\u001b[0mplate_type\u001b[0m\u001b[0;34m,\u001b[0m\u001b[0mlimit\u001b[0m\u001b[0;34m,\u001b[0m\u001b[0mabsolute_ic50_data_f\u001b[0m\u001b[0;34m,\u001b[0m\u001b[0mrelative_ic50_data_f\u001b[0m\u001b[0;34m,\u001b[0m\u001b[0mresiduals_f\u001b[0m\u001b[0;34m)\u001b[0m\u001b[0;34m\u001b[0m\u001b[0;34m\u001b[0m\u001b[0m\n\u001b[0m\u001b[1;32m     43\u001b[0m     \u001b[0mprint\u001b[0m\u001b[0;34m(\u001b[0m\u001b[0;34m\"\"\u001b[0m\u001b[0;34m)\u001b[0m\u001b[0;34m\u001b[0m\u001b[0;34m\u001b[0m\u001b[0m\n\u001b[1;32m     44\u001b[0m \u001b[0;34m\u001b[0m\u001b[0m\n",
      "\u001b[0;32m<ipython-input-5-a8c1fb92131c>\u001b[0m in \u001b[0;36mfunction\u001b[0;34m(compounds_array, lost_rows, layout_file, plate_content, et, plate_type, limit, absolute_ic50_data_f, relative_ic50_data_f, residuals_f, expected_noise)\u001b[0m\n\u001b[1;32m     13\u001b[0m     \u001b[0mplate_residuals\u001b[0m \u001b[0;34m=\u001b[0m \u001b[0mnp\u001b[0m\u001b[0;34m.\u001b[0m\u001b[0mvstack\u001b[0m\u001b[0;34m(\u001b[0m\u001b[0;34m[\u001b[0m\u001b[0mnp\u001b[0m\u001b[0;34m.\u001b[0m\u001b[0mfull\u001b[0m\u001b[0;34m(\u001b[0m\u001b[0mres_size\u001b[0m\u001b[0;34m,\u001b[0m\u001b[0mlayout_file\u001b[0m\u001b[0;34m)\u001b[0m\u001b[0;34m,\u001b[0m \u001b[0mnp\u001b[0m\u001b[0;34m.\u001b[0m\u001b[0mfull\u001b[0m\u001b[0;34m(\u001b[0m\u001b[0mres_size\u001b[0m\u001b[0;34m,\u001b[0m\u001b[0met\u001b[0m\u001b[0;34m[\u001b[0m\u001b[0;34m'type'\u001b[0m\u001b[0;34m]\u001b[0m\u001b[0;34m)\u001b[0m\u001b[0;34m,\u001b[0m \u001b[0mnp\u001b[0m\u001b[0;34m.\u001b[0m\u001b[0mfull\u001b[0m\u001b[0;34m(\u001b[0m\u001b[0mres_size\u001b[0m\u001b[0;34m,\u001b[0m\u001b[0met\u001b[0m\u001b[0;34m[\u001b[0m\u001b[0;34m'error'\u001b[0m\u001b[0;34m]\u001b[0m\u001b[0;34m)\u001b[0m\u001b[0;34m,\u001b[0m \u001b[0mnp\u001b[0m\u001b[0;34m.\u001b[0m\u001b[0mfull\u001b[0m\u001b[0;34m(\u001b[0m\u001b[0mres_size\u001b[0m\u001b[0;34m,\u001b[0m\u001b[0mcurrent_e\u001b[0m\u001b[0;34m)\u001b[0m\u001b[0;34m,\u001b[0m \u001b[0mnp\u001b[0m\u001b[0;34m.\u001b[0m\u001b[0mfull\u001b[0m\u001b[0;34m(\u001b[0m\u001b[0mres_size\u001b[0m\u001b[0;34m,\u001b[0m\u001b[0mlost_rows\u001b[0m\u001b[0;34m)\u001b[0m\u001b[0;34m,\u001b[0m \u001b[0mres_array\u001b[0m\u001b[0;34m,\u001b[0m \u001b[0mtrue_res_array\u001b[0m\u001b[0;34m]\u001b[0m\u001b[0;34m)\u001b[0m\u001b[0;34m\u001b[0m\u001b[0;34m\u001b[0m\u001b[0m\n\u001b[1;32m     14\u001b[0m \u001b[0;34m\u001b[0m\u001b[0m\n\u001b[0;32m---> 15\u001b[0;31m     \u001b[0mnp\u001b[0m\u001b[0;34m.\u001b[0m\u001b[0msavetxt\u001b[0m\u001b[0;34m(\u001b[0m\u001b[0mresiduals_f\u001b[0m\u001b[0;34m,\u001b[0m \u001b[0mplate_residuals\u001b[0m\u001b[0;34m.\u001b[0m\u001b[0mT\u001b[0m\u001b[0;34m,\u001b[0m \u001b[0mdelimiter\u001b[0m\u001b[0;34m=\u001b[0m\u001b[0;34m\",\"\u001b[0m\u001b[0;34m,\u001b[0m\u001b[0mfmt\u001b[0m\u001b[0;34m=\u001b[0m\u001b[0;34m'%s'\u001b[0m\u001b[0;34m)\u001b[0m\u001b[0;34m\u001b[0m\u001b[0;34m\u001b[0m\u001b[0m\n\u001b[0m\u001b[1;32m     16\u001b[0m \u001b[0;34m\u001b[0m\u001b[0m\n\u001b[1;32m     17\u001b[0m     \u001b[0mplate_rel_ic50\u001b[0m \u001b[0;34m=\u001b[0m \u001b[0mnp\u001b[0m\u001b[0;34m.\u001b[0m\u001b[0mabsolute\u001b[0m\u001b[0;34m(\u001b[0m\u001b[0mnp\u001b[0m\u001b[0;34m.\u001b[0m\u001b[0msubtract\u001b[0m\u001b[0;34m(\u001b[0m\u001b[0mnp\u001b[0m\u001b[0;34m.\u001b[0m\u001b[0mlog10\u001b[0m\u001b[0;34m(\u001b[0m\u001b[0mdf_params\u001b[0m\u001b[0;34m[\u001b[0m\u001b[0;34m'e'\u001b[0m\u001b[0;34m]\u001b[0m\u001b[0;34m)\u001b[0m\u001b[0;34m,\u001b[0m \u001b[0mnp\u001b[0m\u001b[0;34m.\u001b[0m\u001b[0mlog10\u001b[0m\u001b[0;34m(\u001b[0m\u001b[0mfitTable_new\u001b[0m\u001b[0;34m[\u001b[0m\u001b[0;34m'e'\u001b[0m\u001b[0;34m]\u001b[0m\u001b[0;34m)\u001b[0m\u001b[0;34m)\u001b[0m\u001b[0;34m)\u001b[0m\u001b[0;34m\u001b[0m\u001b[0;34m\u001b[0m\u001b[0m\n",
      "\u001b[0;32m<__array_function__ internals>\u001b[0m in \u001b[0;36msavetxt\u001b[0;34m(*args, **kwargs)\u001b[0m\n",
      "\u001b[0;32m~/.local/lib/python3.8/site-packages/numpy/lib/npyio.py\u001b[0m in \u001b[0;36msavetxt\u001b[0;34m(fname, X, fmt, delimiter, newline, header, footer, comments, encoding)\u001b[0m\n\u001b[1;32m   1438\u001b[0m                                     \u001b[0;34m\"format specifier ('%s')\"\u001b[0m\u001b[0;34m\u001b[0m\u001b[0;34m\u001b[0m\u001b[0m\n\u001b[1;32m   1439\u001b[0m                                     % (str(X.dtype), format)) from e\n\u001b[0;32m-> 1440\u001b[0;31m                 \u001b[0mfh\u001b[0m\u001b[0;34m.\u001b[0m\u001b[0mwrite\u001b[0m\u001b[0;34m(\u001b[0m\u001b[0mv\u001b[0m\u001b[0;34m)\u001b[0m\u001b[0;34m\u001b[0m\u001b[0;34m\u001b[0m\u001b[0m\n\u001b[0m\u001b[1;32m   1441\u001b[0m \u001b[0;34m\u001b[0m\u001b[0m\n\u001b[1;32m   1442\u001b[0m         \u001b[0;32mif\u001b[0m \u001b[0mlen\u001b[0m\u001b[0;34m(\u001b[0m\u001b[0mfooter\u001b[0m\u001b[0;34m)\u001b[0m \u001b[0;34m>\u001b[0m \u001b[0;36m0\u001b[0m\u001b[0;34m:\u001b[0m\u001b[0;34m\u001b[0m\u001b[0;34m\u001b[0m\u001b[0m\n",
      "\u001b[0;32m~/.local/lib/python3.8/site-packages/numpy/lib/npyio.py\u001b[0m in \u001b[0;36mwrite\u001b[0;34m(self, v)\u001b[0m\n\u001b[1;32m   1341\u001b[0m \u001b[0;34m\u001b[0m\u001b[0m\n\u001b[1;32m   1342\u001b[0m         \u001b[0;32mdef\u001b[0m \u001b[0mwrite\u001b[0m\u001b[0;34m(\u001b[0m\u001b[0mself\u001b[0m\u001b[0;34m,\u001b[0m \u001b[0mv\u001b[0m\u001b[0;34m)\u001b[0m\u001b[0;34m:\u001b[0m\u001b[0;34m\u001b[0m\u001b[0;34m\u001b[0m\u001b[0m\n\u001b[0;32m-> 1343\u001b[0;31m             \u001b[0mself\u001b[0m\u001b[0;34m.\u001b[0m\u001b[0mdo_write\u001b[0m\u001b[0;34m(\u001b[0m\u001b[0mv\u001b[0m\u001b[0;34m)\u001b[0m\u001b[0;34m\u001b[0m\u001b[0;34m\u001b[0m\u001b[0m\n\u001b[0m\u001b[1;32m   1344\u001b[0m \u001b[0;34m\u001b[0m\u001b[0m\n\u001b[1;32m   1345\u001b[0m         \u001b[0;32mdef\u001b[0m \u001b[0mwrite_bytes\u001b[0m\u001b[0;34m(\u001b[0m\u001b[0mself\u001b[0m\u001b[0;34m,\u001b[0m \u001b[0mv\u001b[0m\u001b[0;34m)\u001b[0m\u001b[0;34m:\u001b[0m\u001b[0;34m\u001b[0m\u001b[0;34m\u001b[0m\u001b[0m\n",
      "\u001b[0;32m~/.local/lib/python3.8/site-packages/numpy/lib/npyio.py\u001b[0m in \u001b[0;36mfirst_write\u001b[0;34m(self, v)\u001b[0m\n\u001b[1;32m   1354\u001b[0m         \u001b[0;32mdef\u001b[0m \u001b[0mfirst_write\u001b[0m\u001b[0;34m(\u001b[0m\u001b[0mself\u001b[0m\u001b[0;34m,\u001b[0m \u001b[0mv\u001b[0m\u001b[0;34m)\u001b[0m\u001b[0;34m:\u001b[0m\u001b[0;34m\u001b[0m\u001b[0;34m\u001b[0m\u001b[0m\n\u001b[1;32m   1355\u001b[0m             \u001b[0;32mtry\u001b[0m\u001b[0;34m:\u001b[0m\u001b[0;34m\u001b[0m\u001b[0;34m\u001b[0m\u001b[0m\n\u001b[0;32m-> 1356\u001b[0;31m                 \u001b[0mself\u001b[0m\u001b[0;34m.\u001b[0m\u001b[0mwrite_normal\u001b[0m\u001b[0;34m(\u001b[0m\u001b[0mv\u001b[0m\u001b[0;34m)\u001b[0m\u001b[0;34m\u001b[0m\u001b[0;34m\u001b[0m\u001b[0m\n\u001b[0m\u001b[1;32m   1357\u001b[0m                 \u001b[0mself\u001b[0m\u001b[0;34m.\u001b[0m\u001b[0mwrite\u001b[0m \u001b[0;34m=\u001b[0m \u001b[0mself\u001b[0m\u001b[0;34m.\u001b[0m\u001b[0mwrite_normal\u001b[0m\u001b[0;34m\u001b[0m\u001b[0;34m\u001b[0m\u001b[0m\n\u001b[1;32m   1358\u001b[0m             \u001b[0;32mexcept\u001b[0m \u001b[0mTypeError\u001b[0m\u001b[0;34m:\u001b[0m\u001b[0;34m\u001b[0m\u001b[0;34m\u001b[0m\u001b[0m\n",
      "\u001b[0;32m~/.local/lib/python3.8/site-packages/numpy/lib/npyio.py\u001b[0m in \u001b[0;36mwrite_normal\u001b[0;34m(self, v)\u001b[0m\n\u001b[1;32m   1350\u001b[0m \u001b[0;34m\u001b[0m\u001b[0m\n\u001b[1;32m   1351\u001b[0m         \u001b[0;32mdef\u001b[0m \u001b[0mwrite_normal\u001b[0m\u001b[0;34m(\u001b[0m\u001b[0mself\u001b[0m\u001b[0;34m,\u001b[0m \u001b[0mv\u001b[0m\u001b[0;34m)\u001b[0m\u001b[0;34m:\u001b[0m\u001b[0;34m\u001b[0m\u001b[0;34m\u001b[0m\u001b[0m\n\u001b[0;32m-> 1352\u001b[0;31m             \u001b[0mself\u001b[0m\u001b[0;34m.\u001b[0m\u001b[0mfh\u001b[0m\u001b[0;34m.\u001b[0m\u001b[0mwrite\u001b[0m\u001b[0;34m(\u001b[0m\u001b[0masunicode\u001b[0m\u001b[0;34m(\u001b[0m\u001b[0mv\u001b[0m\u001b[0;34m)\u001b[0m\u001b[0;34m)\u001b[0m\u001b[0;34m\u001b[0m\u001b[0;34m\u001b[0m\u001b[0m\n\u001b[0m\u001b[1;32m   1353\u001b[0m \u001b[0;34m\u001b[0m\u001b[0m\n\u001b[1;32m   1354\u001b[0m         \u001b[0;32mdef\u001b[0m \u001b[0mfirst_write\u001b[0m\u001b[0;34m(\u001b[0m\u001b[0mself\u001b[0m\u001b[0;34m,\u001b[0m \u001b[0mv\u001b[0m\u001b[0;34m)\u001b[0m\u001b[0;34m:\u001b[0m\u001b[0;34m\u001b[0m\u001b[0;34m\u001b[0m\u001b[0m\n",
      "\u001b[0;31mValueError\u001b[0m: I/O operation on closed file."
     ]
    }
   ],
   "source": [
    "print(\"Results are being stored in files which include the name: \",str(compounds)+'-'+str(concentrations)+'-dil'+str(dilution)+'-'+str(replicates)+'-'+str(error_nl)+'-'+today)\n",
    "\n",
    "full_dose_response_evaluation()\n",
    "\n",
    "## Close all files\n",
    "absolute_ic50_data_f.close()\n",
    "relative_ic50_data_f.close()\n",
    "residuals_f.close()\n",
    "\n",
    "print(\"\\nDone! :-)\")       "
   ]
  },
  {
   "cell_type": "code",
   "execution_count": 5,
   "metadata": {},
   "outputs": [],
   "source": [
    "def function(compounds_array,lost_rows,layout_file,plate_content,et,plate_type,limit,absolute_ic50_data_f,relative_ic50_data_f,residuals_f,expected_noise=0.01):\n",
    "    layout_dir = plate_type['dir']\n",
    "    r_lost_array = np.full(len(compounds_array),lost_rows)\n",
    "\n",
    "    fitTable_new = dr.plate_curves_after_error(layout_dir,layout_file,plate_content,expected_noise,et['error_function'],et['error'],plate_type['error_correction'],lose_from_row=limit['from'],lose_to_row=limit['to'])\n",
    "\n",
    "    obtained_absolute_ic50 = dr.IC50(fitTable_new['b'],fitTable_new['c'],fitTable_new['d'],fitTable_new['e'])\n",
    "\n",
    "    res_array = np.concatenate(fitTable_new['residuals'].to_numpy())\n",
    "    true_res_array = np.concatenate(fitTable_new['true_residuals'].to_numpy())\n",
    "    res_size = len(res_array)\n",
    "\n",
    "    plate_residuals = np.vstack([np.full(res_size,layout_file), np.full(res_size,et['type']), np.full(res_size,et['error']), np.full(res_size,current_e), np.full(res_size,lost_rows), res_array, true_res_array])\n",
    "\n",
    "    np.savetxt(residuals_f, plate_residuals.T, delimiter=\",\",fmt='%s')\n",
    "\n",
    "    plate_rel_ic50 = np.absolute(np.subtract(np.log10(df_params['e']), np.log10(fitTable_new['e'])))\n",
    "    plate_abs_ic50 = np.absolute(np.subtract(np.log10(df_params['abs IC50']), np.log10(obtained_absolute_ic50)))\n",
    "\n",
    "    # Includes curve info\n",
    "    rel_results = np.vstack([layout_file_array, compounds_array, plate_rel_ic50.to_numpy(), error_type_array, error_array, e_array, r_lost_array, fitTable_new['r2_score'],df_params['b'],df_params['c'],df_params['d'],df_params['e'],fitTable_new['b'],fitTable_new['c'],fitTable_new['d'],fitTable_new['e']])\n",
    "    abs_results = np.vstack([layout_file_array, compounds_array, plate_abs_ic50.to_numpy(), error_type_array, error_array, e_array, r_lost_array, fitTable_new['r2_score'],df_params['b'],df_params['c'],df_params['d'],df_params['e'],fitTable_new['b'],fitTable_new['c'],fitTable_new['d'],fitTable_new['e']])\n",
    "\n",
    "    # Save results\n",
    "    np.savetxt(absolute_ic50_data_f, abs_results.T, delimiter=\",\",fmt='%s')\n",
    "    np.savetxt(relative_ic50_data_f, rel_results.T, delimiter=\",\",fmt='%s')"
   ]
  },
  {
   "cell_type": "code",
   "execution_count": null,
   "metadata": {},
   "outputs": [],
   "source": [
    "\n",
    "\n"
   ]
  },
  {
   "cell_type": "code",
   "execution_count": null,
   "metadata": {},
   "outputs": [],
   "source": [
    "# don't go beyond here with Run All\n",
    "assert False"
   ]
  },
  {
   "cell_type": "markdown",
   "metadata": {},
   "source": [
    "## Evaluating the absolute IC50\n",
    "\n",
    "We first look at the mean IC50 obtained for all the compounds using a PLAID layout versus a completly random layout. "
   ]
  },
  {
   "cell_type": "code",
   "execution_count": null,
   "metadata": {},
   "outputs": [],
   "source": [
    "## Loading data for a high error=0.125\n",
    "# 1 replicate\n",
    "#absolute_ic50_data = np.loadtxt('absolute_ic50_data-48-6-1-20210630.csv', delimiter=',', dtype='str')\n",
    "\n",
    "# 2 replicate\n",
    "#absolute_ic50_data = np.loadtxt('absolute_ic50_data-20210621.csv', delimiter=',', dtype='str')\n",
    "\n",
    "# 3 replicates\n",
    "#absolute_ic50_data = np.loadtxt('absolute_ic50_data-16-6-3complete-20210716.csv', delimiter=',', dtype='str')\n",
    "\n",
    "\n",
    "## Loading data for a low error=0.025\n",
    "# 1 replicate\n",
    "#absolute_ic50_data = np.loadtxt('absolute_ic50_data-16-6-3-0.025-20210921.csv', delimiter=',', dtype='str')\n",
    "\n",
    "## Loading data for a high error=0.125 and 4 doses\n",
    "# 2 replicates\n",
    "#absolute_ic50_data = np.loadtxt('absolute_ic50_data-36-4-2-8-20211212.csv', delimiter=',', dtype='str')"
   ]
  },
  {
   "cell_type": "code",
   "execution_count": null,
   "metadata": {},
   "outputs": [],
   "source": [
    "results_df = pd.DataFrame(absolute_ic50_data, columns=[\"layout\", \"method\", \"MSE\", \"error type\", \"Error\", \"E\", \"rows lost\"])\n",
    "results_df.MSE = pd.to_numeric(results_df.MSE, errors='coerce')\n",
    "#results_df.MSE = pd.to_numeric(results_df.MSE, errors='coerce')\n",
    "\n",
    "results_df = results_df.sort_values(\"MSE\")\n",
    "\n",
    "results_df = results_df[np.logical_not(np.isnan(results_df['MSE']))]\n",
    "\n",
    "#results_df = results_df.loc[(results_df['error type'] != \"bowl\") & (results_df['error type'] != \"left\") & (results_df['error type'] != \"top\")]\n",
    "\n",
    "print(results_df)\n",
    "\n",
    "results_df.loc[(results_df['layout'] >= \"plate_layout_rand\"), 'layout'] = \"RANDOM\"\n",
    "results_df.loc[(results_df['layout'] >= \"plate_layout_border\") & (results_df['layout'] != \"RANDOM\"), 'layout'] = \"BORDER\"\n",
    "results_df.loc[(results_df['layout'] >= \"plate_layout\") & (results_df['layout'] != \"RANDOM\") & (results_df['layout'] != \"BORDER\"), 'layout'] = \"TEST\"\n",
    "\n",
    "\n",
    "#print(results_df[results_df['layout']=='PLAID'].describe())\n",
    "\n",
    "print(results_df[results_df['layout']=='RANDOM'].describe())\n",
    "\n",
    "print(results_df[results_df['layout']=='BORDER'].describe())\n",
    "\n",
    "fig, ax = plt.subplots(figsize=(4, 4))\n",
    "\n",
    "ax.set(ylim=(0,1))\n",
    "\n",
    "\n",
    "ax = sns.barplot(x=\"layout\", y=\"MSE\", data=results_df[results_df['MSE']!=np.inf], order=[\"TEST\", \"RANDOM\", \"BORDER\"])\n",
    "\n",
    "#ax = sns.barplot(x=\"layout\", y=\"MSE\", data=results_df[results_df['MSE']!=np.inf], order=[\"PLAID\", \"RANDOM\"])\n",
    "\n",
    "ax.set(xlabel='', ylabel='')\n",
    "\n",
    "plt.show()\n"
   ]
  },
  {
   "cell_type": "code",
   "execution_count": null,
   "metadata": {},
   "outputs": [],
   "source": [
    "fig.savefig(\"dose-response-absic50-48-4-2-sq-essense.png\",bbox_inches='tight')"
   ]
  },
  {
   "cell_type": "code",
   "execution_count": null,
   "metadata": {},
   "outputs": [],
   "source": [
    "## Plot Absolute IC50\n",
    "results_df = pd.DataFrame(absolute_ic50_data, columns=[\"layout\", \"method\", \"MSE\", \"error type\", \"Error\", \"E\", \"rows lost\"])\n",
    "results_df.MSE = pd.to_numeric(results_df.MSE, errors='coerce')\n",
    "\n",
    "results_df[\"rows lost\"] = pd.to_numeric(results_df[\"rows lost\"], errors='coerce')\n",
    "results_df[\"E\"] = pd.to_numeric(results_df[\"E\"], errors='coerce')\n",
    "\n",
    "results_df = results_df.sort_values(\"MSE\")\n",
    "\n",
    "results_df = results_df[np.logical_not(np.isnan(results_df['MSE']))]\n",
    "print(results_df)\n",
    "\n",
    "results_df.loc[(results_df['layout'] >= \"plate_layout_rand\"), 'layout'] = \"RANDOM\"\n",
    "results_df.loc[(results_df['layout'] >= \"plate_layout_border\") & (results_df['layout'] != \"RANDOM\"), 'layout'] = \"BORDER\"\n",
    "results_df.loc[(results_df['layout'] >= \"plate_layout\") & (results_df['layout'] != \"RANDOM\") & (results_df['layout'] != \"BORDER\"), 'layout'] = \"PLAID\"\n",
    "\n",
    "temp_none = results_df[(results_df['MSE']!=np.inf) & (results_df['rows lost']<2) ]\n",
    "\n",
    "#print(temp_none[temp_none['layout']=='PLAID'].describe())\n",
    "\n",
    "#print(temp_none[temp_none['layout']=='RANDOM'].describe())\n",
    "\n",
    "#print(temp_none[temp_none['layout']=='BORDER'].describe())\n",
    "\n",
    "\n",
    "#temp_half = results_df[(results_df['MSE']!=np.inf) & (results_df['rows lost']<=1) & (results_df['E']>70) & (results_df['E']<80) ]\n",
    "temp_half = results_df[(results_df['rows lost']<=1) & (results_df['MSE']!=np.inf) ]\n",
    "#ax = sns.barplot(x=\"layout\", y=\"MSE\", data=temp_half, order=[\"PLAID\", \"RANDOM\"])\n",
    "#plt.show()\n",
    "\n",
    "print(temp_half[temp_half['layout']=='PLAID'].describe())\n",
    "\n",
    "print(temp_half[temp_half['layout']=='RANDOM'].describe())\n",
    "\n",
    "#print(temp_half[temp_half['layout']=='BORDER'].describe())\n",
    "\n",
    "\n",
    "fig, ax = plt.subplots(figsize=(6, 15))\n",
    "\n",
    "ax.set(ylim=(0,0.6))\n",
    "\n",
    "ax = sns.barplot(x=\"layout\", y=\"MSE\", data=temp_half, order=[\"PLAID\", \"RANDOM\",\"BORDER\"])\n",
    "#plt.show()"
   ]
  },
  {
   "cell_type": "code",
   "execution_count": null,
   "metadata": {},
   "outputs": [],
   "source": [
    "fig.savefig(\"dose-response-absic50-16-6-3.png\",bbox_inches='tight')"
   ]
  },
  {
   "cell_type": "code",
   "execution_count": null,
   "metadata": {},
   "outputs": [],
   "source": []
  },
  {
   "cell_type": "code",
   "execution_count": null,
   "metadata": {},
   "outputs": [],
   "source": [
    "#fig.savefig(\"dose-response-absic50-plaid-rand-36-4-2_0.125_0.25.png\")\n",
    "\n",
    "rand_results_array = results_df.MSE[results_df.layout==\"RANDOM\"]\n",
    "plaid_results_array = results_df.MSE[results_df.layout==\"PLAID\"]\n",
    "border_results_array = results_df.MSE[results_df.layout==\"BORDER\"]\n",
    "\n",
    "print(\"Variance of PLAID layouts:\", statistics.variance(plaid_results_array))\n",
    "print(\"Variance of RANDOM layouts:\", statistics.variance(rand_results_array))\n",
    "print(\"Variance of BORDER layouts:\", statistics.variance(border_results_array))\n",
    "\n",
    "print(\"PLAID vs RANDOM layouts:\", stats.ttest_ind(plaid_results_array,rand_results_array))\n",
    "print(\"PLAID vs RANDOM layouts:\", stats.ttest_ind(plaid_results_array,rand_results_array,equal_var = False))\n",
    "\n",
    "print(\"RANDOM vs BORDER layouts:\", stats.ttest_ind(border_results_array,rand_results_array,equal_var = False))\n",
    "\n",
    "print(\"PLAID vs BORDER layouts:\", stats.ttest_ind(plaid_results_array,border_results_array,equal_var = False))"
   ]
  },
  {
   "cell_type": "code",
   "execution_count": null,
   "metadata": {},
   "outputs": [],
   "source": [
    "rand_results_array = temp_none.MSE[temp_none.layout==\"RANDOM\"]\n",
    "plaid_results_array = temp_none.MSE[temp_none.layout==\"PLAID\"]\n",
    "border_results_array = temp_none.MSE[temp_none.layout==\"BORDER\"]\n",
    "\n",
    "print(\"Variance of PLAID layouts:\", statistics.variance(plaid_results_array))\n",
    "print(\"Variance of RANDOM layouts:\", statistics.variance(rand_results_array))\n",
    "print(\"Variance of BORDER layouts:\", statistics.variance(border_results_array))\n",
    "\n",
    "print(\"PLAID vs RANDOM layouts:\", stats.ttest_ind(plaid_results_array,rand_results_array))\n",
    "print(\"PLAID vs RANDOM layouts:\", stats.ttest_ind(plaid_results_array,rand_results_array,equal_var = False))\n",
    "\n",
    "print(\"RANDOM vs BORDER layouts:\", stats.ttest_ind(border_results_array,rand_results_array,equal_var = False))\n",
    "\n",
    "print(\"PLAID vs BORDER layouts:\", stats.ttest_ind(plaid_results_array,border_results_array,equal_var = False))"
   ]
  },
  {
   "cell_type": "code",
   "execution_count": null,
   "metadata": {},
   "outputs": [],
   "source": [
    "rand_results_array = temp_half.MSE[temp_half.layout==\"RANDOM\"]\n",
    "plaid_results_array = temp_half.MSE[temp_half.layout==\"PLAID\"]\n",
    "border_results_array = temp_half.MSE[temp_half.layout==\"BORDER\"]\n",
    "\n",
    "print(\"Variance of PLAID layouts:\", statistics.variance(plaid_results_array))\n",
    "print(\"Variance of RANDOM layouts:\", statistics.variance(rand_results_array))\n",
    "print(\"Variance of BORDER layouts:\", statistics.variance(border_results_array))\n",
    "\n",
    "print(\"PLAID vs RANDOM layouts:\", stats.ttest_ind(plaid_results_array,rand_results_array))\n",
    "print(\"PLAID vs RANDOM layouts:\", stats.ttest_ind(plaid_results_array,rand_results_array,equal_var = False))\n",
    "\n",
    "print(\"RANDOM vs BORDER layouts:\", stats.ttest_ind(border_results_array,rand_results_array,equal_var = False))\n",
    "\n",
    "print(\"PLAID vs BORDER layouts:\", stats.ttest_ind(plaid_results_array,border_results_array,equal_var = False))"
   ]
  },
  {
   "cell_type": "markdown",
   "metadata": {},
   "source": [
    "### Plotting results for multiple replicates together\n",
    "\n",
    "This is how we generate the plots for the paper."
   ]
  },
  {
   "cell_type": "code",
   "execution_count": null,
   "metadata": {},
   "outputs": [],
   "source": [
    "## Loading data for a high error=0.125\n",
    "# 1 replicate\n",
    "absolute_ic50_data_1rep = np.loadtxt('absolute_ic50_data-48-6-1-20210630.csv', delimiter=',', dtype='str')\n",
    "\n",
    "# 2 replicate\n",
    "absolute_ic50_data_2rep = np.loadtxt('absolute_ic50_data-20210621.csv', delimiter=',', dtype='str')\n",
    "\n",
    "# 3 replicates\n",
    "absolute_ic50_data_3rep = np.loadtxt('absolute_ic50_data-16-6-3complete-20210716.csv', delimiter=',', dtype='str')"
   ]
  },
  {
   "cell_type": "code",
   "execution_count": null,
   "metadata": {},
   "outputs": [],
   "source": [
    "results_df = pd.DataFrame(absolute_ic50_data_1rep, columns=[\"layout\", \"method\", \"MSE\", \"error type\", \"Error\", \"E\", \"rows lost\"])\n",
    "\n",
    "results_df_2rep = pd.DataFrame(absolute_ic50_data_2rep, columns=[\"layout\", \"method\", \"MSE\", \"error type\", \"Error\", \"E\", \"rows lost\"])\n",
    "\n",
    "results_df_3rep = pd.DataFrame(absolute_ic50_data_3rep, columns=[\"layout\", \"method\", \"MSE\", \"error type\", \"Error\", \"E\", \"rows lost\"])\n",
    "\n",
    "results_df.insert(0, 'replicates', 1)\n",
    "results_df_2rep.insert(0, 'replicates', 2)\n",
    "results_df_3rep.insert(0, 'replicates', 3)\n",
    "\n",
    "results_df = results_df.append(results_df_2rep)\n",
    "results_df = results_df.append(results_df_3rep)\n",
    "\n",
    "results_df.MSE = pd.to_numeric(results_df.MSE, errors='coerce')\n",
    "\n",
    "results_df = results_df[np.logical_not(np.isnan(results_df['MSE']))]\n",
    "\n",
    "results_df.loc[(results_df['layout'] >= \"plate_layout_rand\"), 'layout'] = \"RANDOM\"\n",
    "results_df.loc[(results_df['layout'] >= \"plate_layout_border\") & (results_df['layout'] != \"RANDOM\"), 'layout'] = \"BORDER\"\n",
    "results_df.loc[(results_df['layout'] >= \"plate_layout\") & (results_df['layout'] != \"RANDOM\") & (results_df['layout'] != \"BORDER\"), 'layout'] = \"PLAID\"\n",
    "\n",
    "fig, ax = plt.subplots(figsize=(6, 4))\n",
    "ax.set(ylim=(0,0.6))\n",
    "ax = sns.barplot(x='replicates', y=\"MSE\", data=results_df[results_df['MSE']!=np.inf], hue=\"layout\", palette='rocket_r')\n",
    "plt.show()\n"
   ]
  },
  {
   "cell_type": "code",
   "execution_count": null,
   "metadata": {},
   "outputs": [],
   "source": [
    "fig.savefig(\"dose-response-absic50-1-2-3.png\",bbox_inches='tight')"
   ]
  },
  {
   "cell_type": "markdown",
   "metadata": {},
   "source": [
    "## Evaluating the relative EC50/IC50\n",
    "\n",
    "Now we evaluate the relative IC50's obtained. We plot the mean of the IC50 for all compounds obtained using either a PLAID layout or a random layout."
   ]
  },
  {
   "cell_type": "code",
   "execution_count": null,
   "metadata": {},
   "outputs": [],
   "source": [
    "## Data with lost rows\n",
    "#relative_ic50_data = np.loadtxt('relative_ic50_data-20210624.csv', delimiter=',', dtype='str')\n",
    "\n",
    "# 1 replicate\n",
    "#relative_ic50_data = np.loadtxt('relative_ic50_data-48-6-1-20210630.csv', delimiter=',', dtype='str')\n",
    "\n",
    "# 2 replicates\n",
    "relative_ic50_data = np.loadtxt('relative_ic50_data-20210621.csv', delimiter=',', dtype='str')\n",
    "\n",
    "# 3 replicates\n",
    "#relative_ic50_data = np.loadtxt('relative_ic50_data-16-6-3complete-20210716.csv', delimiter=',', dtype='str')"
   ]
  },
  {
   "cell_type": "code",
   "execution_count": null,
   "metadata": {},
   "outputs": [],
   "source": [
    "results_df = pd.DataFrame(relative_ic50_data, columns=[\"layout\", \"method\", \"MSE\", \"error type\", \"Error\", \"E\", \"rows lost\"])\n",
    "results_df.MSE = pd.to_numeric(results_df.MSE, errors='coerce')\n",
    "results_df = results_df.sort_values(\"MSE\")\n",
    "\n",
    "results_df[\"rows lost\"] = pd.to_numeric(results_df[\"rows lost\"], errors='coerce')\n",
    "results_df[\"E\"] = pd.to_numeric(results_df[\"E\"], errors='coerce')\n",
    "\n",
    "results_df = results_df.sort_values(\"MSE\")\n",
    "\n",
    "#results_df = results_df[(results_df['MSE']!=np.inf) & (results_df['rows lost']>1)]\n",
    "\n",
    "## Rename the layouts so they can be grouped as PLAID, RANDOM or Border\n",
    "results_df.loc[(results_df['layout'] >= \"plate_layout_rand\"), 'layout'] = \"RANDOM\"\n",
    "results_df.loc[(results_df['layout'] >= \"plate_layout_border\") & (results_df['layout'] != \"RANDOM\"), 'layout'] = \"BORDER\"\n",
    "results_df.loc[(results_df['layout'] >= \"plate_layout\") & (results_df['layout'] != \"RANDOM\"), 'layout'] = \"PLAID\"\n",
    "\n",
    "results_df = results_df[(results_df['rows lost']<=1) ]\n",
    "\n",
    "print(results_df[results_df['layout']=='PLAID'].describe())\n",
    "\n",
    "print(results_df[results_df['layout']=='RANDOM'].describe())\n",
    "\n",
    "print(results_df[results_df['layout']=='BORDER'].describe())\n",
    "\n",
    "fig, ax = plt.subplots(figsize=(4, 4)) #6,15\n",
    "\n",
    "ax.set(ylim=(0,0.42))\n",
    "\n",
    "ax = sns.barplot(x=\"layout\", y=\"MSE\", data=results_df, order=[\"PLAID\", \"RANDOM\", \"BORDER\"])\n",
    "\n",
    "ax.set(xlabel='', ylabel='')\n",
    "plt.show()"
   ]
  },
  {
   "cell_type": "code",
   "execution_count": null,
   "metadata": {},
   "outputs": [],
   "source": [
    "fig.savefig(\"dose-response-relic50-24-6-2-sq.png\",bbox_inches='tight')"
   ]
  },
  {
   "cell_type": "code",
   "execution_count": null,
   "metadata": {},
   "outputs": [],
   "source": [
    "\n",
    "fig, ax = plt.subplots(figsize=(15, 8))\n",
    "\n",
    "ax = sns.barplot(x=\"rows lost\", y=\"MSE\", hue=\"layout\", data=results_df)\n",
    "\n",
    "fig.savefig(\"dose-response-relic50-24-6-2_lost-rows.125_0.01.png\")"
   ]
  },
  {
   "cell_type": "code",
   "execution_count": null,
   "metadata": {},
   "outputs": [],
   "source": [
    "#fig.savefig(\"dose-response-relic50-plaid-rand-36-4-2_0.125_0.25.png\")\n",
    "\n",
    "rand_results_array = results_df.MSE[results_df.layout==\"RANDOM\"]\n",
    "plaid_results_array = results_df.MSE[results_df.layout==\"PLAID\"]\n",
    "border_results_array = results_df.MSE[results_df.layout==\"BORDER\"]\n",
    "\n",
    "print(\"Variance of PLAID layouts:\", statistics.variance(plaid_results_array))\n",
    "print(\"Variance of RANDOM layouts:\", statistics.variance(rand_results_array))\n",
    "print(\"Variance of BORDER layouts:\", statistics.variance(border_results_array),\"\\n\")\n",
    "\n",
    "print(\"PLAID vs RANDOM layouts:\", stats.ttest_ind(plaid_results_array,rand_results_array,equal_var = False))\n",
    "print(\"RANDOM vs BORDER layouts:\", stats.ttest_ind(border_results_array,rand_results_array,equal_var = False))\n",
    "print(\"PLAID vs BORDER layouts:\", stats.ttest_ind(plaid_results_array,border_results_array,equal_var = False))"
   ]
  },
  {
   "cell_type": "code",
   "execution_count": null,
   "metadata": {},
   "outputs": [],
   "source": [
    "temp_half = results_df[(results_df['MSE']!=np.inf) & (results_df['rows lost']<=1) & (results_df['E']>20) & (results_df['E']<100) ]\n",
    "#temp_half.loc[(temp_half['layout']=='PLAID') & (temp_half[\"MSE\"]>0.688),\"MSE\"] = 0.1\n",
    "\n",
    "fig, ax = plt.subplots(figsize=(15, 10))\n",
    "\n",
    "#ax = sns.barplot(x=\"layout\", y=\"MSE\", data=temp_half, order=[\"PLAID\", \"RANDOM\"])\n",
    "\n",
    "#sns.barplot(x = \"group\", y = \"score\", data = df, capsize= .1)\n",
    "pal = sns.color_palette(n_colors=1)\n",
    "\n",
    "#ax=pt.half_violinplot( x = \"MSE\", y = \"layout\", data = temp_half, palette = pal, bw = .2, cut = 0.,\n",
    " #                     scale = \"area\", width = .6, inner = None, orient = ort, order=[\"PLAID\", \"RANDOM\"])\n",
    "\n",
    "dx = \"MSE\"; dy = \"layout\"; ort = \"h\"; pal = \"Set2\"; sigma = 0.01\n",
    "#f, ax = plt.subplots(figsize=(7, 5))\n",
    "\n",
    "pt.RainCloud(x = \"layout\", y = \"MSE\", data = temp_half, palette = pal, bw = sigma,\n",
    "                 width_viol = 1.3, ax = ax, orient = ort, order=[\"PLAID\", \"RANDOM\", \"BORDER\"], jitter = 0.15)\n",
    "\n",
    "#ax = sns.violinplot(x=\"MSE\", y=\"layout\", data=temp_half, order=[\"PLAID\", \"RANDOM\"])\n",
    "#ax = sns.stripplot(x=\"MSE\", y=\"layout\", data=temp_half,morder=[\"PLAID\", \"RANDOM\"], jitter=0.3)\n",
    "\n"
   ]
  },
  {
   "cell_type": "code",
   "execution_count": null,
   "metadata": {},
   "outputs": [],
   "source": [
    "rand_results_array = temp_half.MSE[temp_half.layout==\"RANDOM\"]\n",
    "plaid_results_array = temp_half.MSE[temp_half.layout==\"PLAID\"]\n",
    "border_results_array = temp_half.MSE[temp_half.layout==\"BORDER\"]\n",
    "\n",
    "print(\"Variance of PLAID layouts:\", statistics.variance(plaid_results_array))\n",
    "print(\"Variance of RANDOM layouts:\", statistics.variance(rand_results_array))\n",
    "print(\"Variance of BORDER layouts:\", statistics.variance(border_results_array))\n",
    "\n",
    "print(\"PLAID vs RANDOM layouts:\", stats.ttest_ind(plaid_results_array,rand_results_array))\n",
    "print(\"PLAID vs RANDOM layouts:\", stats.ttest_ind(plaid_results_array,rand_results_array,equal_var = False))\n",
    "\n",
    "print(\"RANDOM vs BORDER layouts:\", stats.ttest_ind(border_results_array,rand_results_array,equal_var = False))\n",
    "\n",
    "print(\"PLAID vs BORDER layouts:\", stats.ttest_ind(plaid_results_array,border_results_array,equal_var = False))"
   ]
  },
  {
   "cell_type": "markdown",
   "metadata": {},
   "source": [
    "### Plotting results for multiple replicates together\n",
    "\n",
    "This is how we generate the plots for the paper."
   ]
  },
  {
   "cell_type": "code",
   "execution_count": null,
   "metadata": {},
   "outputs": [],
   "source": [
    "## Data with lost rows\n",
    "#relative_ic50_data = np.loadtxt('relative_ic50_data-20210624.csv', delimiter=',', dtype='str')\n",
    "\n",
    "# 1 replicate\n",
    "relative_ic50_data_1rep = np.loadtxt('relative_ic50_data-48-6-1-20210630.csv', delimiter=',', dtype='str')\n",
    "\n",
    "# 2 replicates\n",
    "relative_ic50_data_2rep = np.loadtxt('relative_ic50_data-20210621.csv', delimiter=',', dtype='str')\n",
    "\n",
    "# 3 replicates\n",
    "relative_ic50_data_3rep = np.loadtxt('relative_ic50_data-16-6-3complete-20210716.csv', delimiter=',', dtype='str')"
   ]
  },
  {
   "cell_type": "code",
   "execution_count": null,
   "metadata": {},
   "outputs": [],
   "source": [
    "results_df = pd.DataFrame(relative_ic50_data_1rep, columns=[\"layout\", \"method\", \"MSE\", \"error type\", \"Error\", \"E\", \"rows lost\"])\n",
    "results_df_2rep = pd.DataFrame(relative_ic50_data_2rep, columns=[\"layout\", \"method\", \"MSE\", \"error type\", \"Error\", \"E\", \"rows lost\"])\n",
    "results_df_3rep = pd.DataFrame(relative_ic50_data_3rep, columns=[\"layout\", \"method\", \"MSE\", \"error type\", \"Error\", \"E\", \"rows lost\"])\n",
    "\n",
    "results_df.insert(0, 'replicates', 1)\n",
    "results_df_2rep.insert(0, 'replicates', 2)\n",
    "results_df_3rep.insert(0, 'replicates', 3)\n",
    "\n",
    "results_df = results_df.append(results_df_2rep)\n",
    "results_df = results_df.append(results_df_3rep)\n",
    "\n",
    "results_df.MSE = pd.to_numeric(results_df.MSE, errors='coerce')\n",
    "\n",
    "results_df = results_df[np.logical_not(np.isnan(results_df['MSE']))]\n",
    "\n",
    "results_df.loc[(results_df['layout'] >= \"plate_layout_rand\"), 'layout'] = \"RANDOM\"\n",
    "results_df.loc[(results_df['layout'] >= \"plate_layout_border\") & (results_df['layout'] != \"RANDOM\"), 'layout'] = \"BORDER\"\n",
    "results_df.loc[(results_df['layout'] >= \"plate_layout\") & (results_df['layout'] != \"RANDOM\") & (results_df['layout'] != \"BORDER\"), 'layout'] = \"PLAID\"\n",
    "\n",
    "fig, ax = plt.subplots(figsize=(6, 4))\n",
    "ax.set(ylim=(0,0.6))\n",
    "ax = sns.barplot(x='replicates', y=\"MSE\", data=results_df[results_df['MSE']!=np.inf], hue=\"layout\", palette='rocket_r')\n",
    "plt.show()\n"
   ]
  },
  {
   "cell_type": "code",
   "execution_count": null,
   "metadata": {},
   "outputs": [],
   "source": [
    "fig.savefig(\"dose-response-relic50-1-2-3.png\",bbox_inches='tight')"
   ]
  },
  {
   "cell_type": "markdown",
   "metadata": {},
   "source": [
    "## Evaluating Residuals"
   ]
  },
  {
   "cell_type": "markdown",
   "metadata": {},
   "source": [
    "We first look at the residuals against the fitted sigmoid"
   ]
  },
  {
   "cell_type": "code",
   "execution_count": null,
   "metadata": {},
   "outputs": [],
   "source": [
    "# 1 replicate\n",
    "residuals = np.loadtxt('residuals-48-6-1-20210630.csv', delimiter=',', dtype='str')\n",
    "\n",
    "# 2 replicates\n",
    "#residuals = np.loadtxt('residuals-20210621.csv', delimiter=',', dtype='str')\n",
    "\n",
    "# 3 replicates\n",
    "#residuals = np.loadtxt('residuals-16-6-3complete-20210716.csv', delimiter=',', dtype='str')\n"
   ]
  },
  {
   "cell_type": "code",
   "execution_count": null,
   "metadata": {},
   "outputs": [],
   "source": [
    "residuals_df = pd.DataFrame(residuals, columns=[\"layout\", \"error_type\", \"Error\", \"E\", \"rows lost\", \"residuals\", \"true_residuals\"])\n",
    "residuals_df.residuals = pd.to_numeric(residuals_df.residuals, errors='coerce')\n",
    "residuals_df.true_residuals = pd.to_numeric(residuals_df.true_residuals, errors='coerce')\n",
    "residuals_df['rows lost'] = pd.to_numeric(residuals_df['rows lost'], errors='coerce')\n",
    "\n",
    "residuals_df = residuals_df[(residuals_df['rows lost']<=1) ]\n",
    "\n",
    "#residuals_df = residuals_df[np.logical_not(np.isnan(residuals_df[\"residuals\"]))]\n",
    "\n",
    "#residuals_df = residuals_df.sort_values(\"residuals\")\n",
    "\n",
    "## Rename the layouts so they can be grouped as PLAID, RANDOM or Border\n",
    "residuals_df.loc[(residuals_df['layout'] >= \"plate_layout_rand\"), 'layout'] = \"RANDOM\"\n",
    "residuals_df.loc[(residuals_df['layout'] >= \"plate_layout_border\") & (residuals_df['layout'] != \"RANDOM\"), 'layout'] = \"BORDER\"\n",
    "residuals_df.loc[(residuals_df['layout'] >= \"plate_layout\") & (residuals_df['layout'] != \"RANDOM\"), 'layout'] = \"PLAID\"\n",
    "\n",
    "print(residuals_df)\n",
    "\n",
    "#res_data = np.empty((0,2))\n",
    "#for layout in ['PLAID','RANDOM','BORDER']:\n",
    "#    layout_res = np.concatenate(np.array(residuals_df[residuals_df['layout']==layout]['residuals']))\n",
    "#    res = np.vstack([np.full(len(layout_res),layout),layout_res]).T\n",
    "#    res_data = np.vstack([res_data,res])\n",
    "\n",
    "#res_df = pd.DataFrame(res_data, columns=[\"layout\", \"SE\"])\n",
    "#res_df.SE = pd.to_numeric(res_df.SE, errors='coerce')\n",
    "#res_df = res_df.sort_values(\"SE\")\n",
    "\n",
    "residuals_df.residuals = pd.to_numeric(residuals_df.residuals, errors='coerce')\n",
    "residuals_df = residuals_df.sort_values(\"residuals\")\n",
    "\n",
    "print(\"PLAID:\\n\",residuals_df[residuals_df['layout']=='PLAID'].describe(),\"\\n\")\n",
    "\n",
    "print(\"RANDOM:\\n\",residuals_df[residuals_df['layout']=='RANDOM'].describe(),\"\\n\")\n",
    "\n",
    "print(\"BORDER:\\n\",residuals_df[residuals_df['layout']=='BORDER'].describe(),\"\\n\")\n",
    "\n",
    "\n"
   ]
  },
  {
   "cell_type": "code",
   "execution_count": null,
   "metadata": {},
   "outputs": [],
   "source": [
    "fig, ax = plt.subplots(figsize=(15, 8))\n",
    "\n",
    "ax = sns.barplot(x=\"layout\", y=\"true_residuals\", data=residuals_df, order=[\"PLAID\", \"RANDOM\", \"BORDER\"])"
   ]
  },
  {
   "cell_type": "code",
   "execution_count": null,
   "metadata": {},
   "outputs": [],
   "source": [
    "ax = sns.barplot(x=\"layout\", y=\"residuals\", data=residuals_df, order=[\"PLAID\", \"RANDOM\"])\n",
    "plt.show()\n",
    "\n",
    "ax = sns.barplot(x=\"layout\", y=\"true_residuals\", data=residuals_df, order=[\"PLAID\", \"RANDOM\"])\n",
    "plt.show()\n"
   ]
  },
  {
   "cell_type": "code",
   "execution_count": null,
   "metadata": {},
   "outputs": [],
   "source": [
    "# Rain plot\n",
    "temp_half = residuals_df#[(residuals_df['MSE']!=np.inf) & (residuals_df['rows lost']<=1) & (residuals_df['E']>20) & (residuals_df['E']<100) ]\n",
    "#temp_half.loc[(temp_half['layout']=='PLAID') & (temp_half[\"MSE\"]>0.688),\"MSE\"] = 0.1\n",
    "\n",
    "fig, ax = plt.subplots(figsize=(15, 10))\n",
    "\n",
    "#ax = sns.barplot(x=\"layout\", y=\"MSE\", data=temp_half, order=[\"PLAID\", \"RANDOM\"])\n",
    "\n",
    "#sns.barplot(x = \"group\", y = \"score\", data = df, capsize= .1)\n",
    "pal = sns.color_palette(n_colors=1)\n",
    "\n",
    "#ax=pt.half_violinplot( x = \"MSE\", y = \"layout\", data = temp_half, palette = pal, bw = .2, cut = 0.,\n",
    " #                     scale = \"area\", width = .6, inner = None, orient = ort, order=[\"PLAID\", \"RANDOM\"])\n",
    "\n",
    "dx = \"MSE\"; dy = \"layout\"; ort = \"h\"; pal = \"Set2\"; sigma = 0.01\n",
    "#f, ax = plt.subplots(figsize=(7, 5))\n",
    "\n",
    "ax = pt.RainCloud(x = \"layout\", y = \"residuals\", data = temp_half, palette = pal, bw = sigma,\n",
    "                 width_viol = 1.2, ax = ax, orient = ort, order=[\"PLAID\", \"RANDOM\", \"BORDER\"], jitter = 0.15)\n",
    "\n",
    "#ax = sns.violinplot(x=\"MSE\", y=\"layout\", data=temp_half, order=[\"PLAID\", \"RANDOM\"])\n",
    "#ax = sns.stripplot(x=\"MSE\", y=\"layout\", data=temp_half,morder=[\"PLAID\", \"RANDOM\"], jitter=0.3)\n",
    "\n",
    "ax.set(xlabel='Residuals', ylabel='Layout type')\n",
    "\n",
    "plt.show()"
   ]
  },
  {
   "cell_type": "code",
   "execution_count": null,
   "metadata": {},
   "outputs": [],
   "source": [
    "fig.savefig(\"raincloud-dose-response-true-residuals-plaid-rand-border-20210621-36-4-2_0.125_0.25.png\")"
   ]
  },
  {
   "cell_type": "code",
   "execution_count": null,
   "metadata": {},
   "outputs": [],
   "source": [
    "# Rain plot\n",
    "\n",
    "temp = residuals_df[[\"layout\", \"residuals\", \"true_residuals\"]]#[(residuals_df['MSE']!=np.inf) & (residuals_df['rows lost']<=1) & (residuals_df['E']>20) & (residuals_df['E']<100) ]\n",
    "#temp_half.loc[(temp_half['layout']=='PLAID') & (temp_half[\"MSE\"]>0.688),\"MSE\"] = 0.1\n",
    "\n",
    "temp_half = temp.melt('layout', var_name='res', value_name='vals')\n",
    "\n",
    "#fig, ax = plt.subplots(figsize=(15, 10))\n",
    "\n",
    "#ax = sns.barplot(x=\"layout\", y=\"MSE\", data=temp_half, order=[\"PLAID\", \"RANDOM\"])\n",
    "\n",
    "#sns.barplot(x = \"group\", y = \"score\", data = df, capsize= .1)\n",
    "pal = sns.color_palette(n_colors=1)\n",
    "\n",
    "#ax=pt.half_violinplot( x = \"MSE\", y = \"layout\", data = temp_half, palette = pal, bw = .2, cut = 0.,\n",
    " #                     scale = \"area\", width = .6, inner = None, orient = ort, order=[\"PLAID\", \"RANDOM\"])\n",
    "\n",
    "dx = \"MSE\"; dy = \"layout\"; ort = \"h\"; pal = \"Set2\"; sigma = 0.01\n",
    "#f, ax = plt.subplots(figsize=(7, 5))\n",
    "\n",
    "#temp_half_sample = temp_half.sample(n=300000)\n",
    "\n",
    "# Rainclouds with FacetGrid\n",
    "g = sns.FacetGrid(temp_half, col = \"res\", height = 5, aspect=1.4, margin_titles=False)\n",
    "#g.set(ylim=(0, 55000))\n",
    "g = g.map_dataframe(pt.RainCloud, x = \"layout\", y = \"vals\", data = temp_half, \n",
    "                    orient = \"v\", order=[\"BORDER\", \"RANDOM\", \"PLAID\"], width_viol = 1.3)\n",
    "\n",
    "axes = g.axes.flatten()\n",
    "axes[0].set_title(\" \")\n",
    "axes[1].set_title(\" \")\n",
    "\n",
    "axes[0].set_ylabel(\" \")\n",
    "for ax in axes:\n",
    "    ax.set_xlabel(\" \")\n",
    "    \n",
    "#ax = pt.RainCloud(x = \"layout\", y = \"vals\", hue = 'res', data = temp_half, palette = pal, bw = sigma,\n",
    " #                width_viol = 1.2, ax = ax, orient = ort, order=[\"PLAID\", \"RANDOM\", \"BORDER\"], jitter = 0.15)\n",
    "\n",
    "#ax = sns.violinplot(x=\"res\", y=\"layout\", hue = , data=temp_half, order=[\"PLAID\", \"RANDOM\"])\n",
    "#ax = sns.stripplot(x=\"MSE\", y=\"layout\", data=temp_half,order=[\"PLAID\", \"RANDOM\"], jitter=0.3)\n",
    "\n",
    "#ax.set(xlabel='Residuals', ylabel='Layout type')\n",
    "\n",
    "#plt.show()"
   ]
  },
  {
   "cell_type": "code",
   "execution_count": null,
   "metadata": {},
   "outputs": [],
   "source": []
  },
  {
   "cell_type": "code",
   "execution_count": null,
   "metadata": {},
   "outputs": [],
   "source": [
    "g.savefig(\"raincloud-dose-response-residuals-1-replicates-brp.png\",bbox_inches='tight')"
   ]
  },
  {
   "cell_type": "code",
   "execution_count": null,
   "metadata": {},
   "outputs": [],
   "source": []
  },
  {
   "cell_type": "code",
   "execution_count": null,
   "metadata": {},
   "outputs": [],
   "source": [
    "rand_results_array = residuals_df.residuals[residuals_df.layout==\"RANDOM\"]\n",
    "plaid_results_array = residuals_df.residuals[residuals_df.layout==\"PLAID\"]\n",
    "border_results_array = residuals_df.residuals[residuals_df.layout==\"BORDER\"]\n",
    "\n",
    "print(\"Mean of PLAID layouts:\", statistics.mean(plaid_results_array))\n",
    "print(\"Mean of RANDOM layouts:\", statistics.mean(rand_results_array))\n",
    "print(\"Mean of BORDER layouts:\", statistics.mean(border_results_array),\"\\n\")\n",
    "\n",
    "print(\"Variance of PLAID layouts:\", statistics.variance(plaid_results_array))\n",
    "print(\"Variance of RANDOM layouts:\", statistics.variance(rand_results_array))\n",
    "print(\"Variance of BORDER layouts:\", statistics.variance(border_results_array),\"\\n\")\n",
    "\n",
    "print(\"PLAID vs RANDOM layouts:\", stats.ttest_ind(plaid_results_array,rand_results_array,equal_var = False))\n",
    "print(\"RANDOM vs BORDER layouts:\", stats.ttest_ind(border_results_array,rand_results_array,equal_var = False))\n",
    "print(\"PLAID vs BORDER layouts:\", stats.ttest_ind(plaid_results_array,border_results_array,equal_var = False))\n",
    "\n",
    "print(\"One way ANOVA:\",stats.f_oneway(rand_results_array,plaid_results_array,border_results_array))"
   ]
  },
  {
   "cell_type": "code",
   "execution_count": null,
   "metadata": {},
   "outputs": [],
   "source": [
    "#temp\n",
    "\n",
    "rand_results_array = temp[temp.layout==\"RANDOM\"]\n",
    "plaid_results_array = temp[temp.layout==\"PLAID\"]\n",
    "border_results_array = temp[temp.layout==\"BORDER\"]\n",
    "\n",
    "print(\"Variance of PLAID layouts:\", statistics.variance(plaid_results_array.residuals))\n",
    "print(\"Variance of RANDOM layouts:\", statistics.variance(rand_results_array.residuals))\n",
    "print(\"Variance of BORDER layouts:\", statistics.variance(border_results_array.residuals),\"\\n\")\n",
    "\n",
    "print(\"Variance of PLAID layouts:\", statistics.variance(plaid_results_array.true_residuals))\n",
    "print(\"Variance of RANDOM layouts:\", statistics.variance(rand_results_array.true_residuals))\n",
    "print(\"Variance of BORDER layouts:\", statistics.variance(border_results_array.true_residuals),\"\\n\")\n",
    "\n",
    "print(\"PLAID vs PLAID layouts:\", stats.ttest_ind(plaid_results_array.residuals,plaid_results_array.true_residuals,equal_var = False))\n",
    "print(\"RANDOM vs RANDOM layouts:\", stats.ttest_ind(rand_results_array.residuals,rand_results_array.true_residuals,equal_var = False))\n",
    "print(\"BORDER vs BORDER layouts:\", stats.ttest_ind(border_results_array.residuals,border_results_array.true_residuals,equal_var = False))\n"
   ]
  },
  {
   "cell_type": "markdown",
   "metadata": {},
   "source": [
    "\n",
    "We now look at the residuals compared to the sigmoid used to generated the data"
   ]
  },
  {
   "cell_type": "code",
   "execution_count": null,
   "metadata": {},
   "outputs": [],
   "source": [
    "true_res_data = np.empty((0,2))\n",
    "for layout in ['PLAID','RANDOM','BORDER']:\n",
    "    layout_res = np.concatenate(np.array(residuals_df[residuals_df['layout']==layout]['true_residuals']))\n",
    "    res = np.vstack([np.full(len(layout_res),layout),layout_res]).T\n",
    "    true_res_data = np.vstack([true_res_data,res])\n",
    "\n",
    "true_res_df = pd.DataFrame(true_res_data, columns=[\"layout\", \"SE\"])\n",
    "true_res_df.SE = pd.to_numeric(true_res_df.SE, errors='coerce')\n",
    "true_res_df = true_res_df.sort_values(\"SE\")\n",
    "\n",
    "fig, ax = plt.subplots(figsize=(15, 8))\n",
    "\n",
    "ax = sns.barplot(x=\"layout\", y=\"SE\", data=true_res_df, order=[\"PLAID\", \"RANDOM\", \"BORDER\"])"
   ]
  },
  {
   "cell_type": "code",
   "execution_count": null,
   "metadata": {},
   "outputs": [],
   "source": [
    "rand_results_array = true_res_df.SE[true_res_df.layout==\"RANDOM\"]\n",
    "plaid_results_array = true_res_df.SE[true_res_df.layout==\"PLAID\"]\n",
    "border_results_array = true_res_df.SE[true_res_df.layout==\"BORDER\"]\n",
    "\n",
    "print(\"Variance of PLAID layouts:\", statistics.variance(plaid_results_array))\n",
    "print(\"Variance of RANDOM layouts:\", statistics.variance(rand_results_array))\n",
    "print(\"Variance of BORDER layouts:\", statistics.variance(border_results_array),\"\\n\")\n",
    "\n",
    "print(\"PLAID vs RANDOM layouts:\", stats.ttest_ind(plaid_results_array,rand_results_array,equal_var = False))\n",
    "print(\"RANDOM vs BORDER layouts:\", stats.ttest_ind(border_results_array,rand_results_array,equal_var = False))\n",
    "print(\"PLAID vs BORDER layouts:\", stats.ttest_ind(plaid_results_array,border_results_array,equal_var = False))"
   ]
  },
  {
   "cell_type": "markdown",
   "metadata": {},
   "source": [
    "# Utilities\n",
    "\n",
    "Examples on how to add more plate layouts"
   ]
  },
  {
   "cell_type": "code",
   "execution_count": null,
   "metadata": {},
   "outputs": [],
   "source": [
    "# Add new PLAID layouts\n",
    "\n",
    "layout_array = \n",
    "\n",
    "\n",
    "\n",
    "util.save_plaid_layout(\"10\", layout_array, num_rows=16, num_columns=24, compounds=72, concentrations=4, replicates=1, size_empty_edge=1, neg_controls=20,directory=\"compounds_PLAID_layouts\")\n",
    "\n",
    "# Check if there are duplicated layouts\n",
    "util.check_duplicated_layouts(layout_dir = \"compounds_PLAID_layouts/\")\n"
   ]
  },
  {
   "cell_type": "markdown",
   "metadata": {},
   "source": [
    "## References\n",
    "\n",
    "[1] \n",
    "Yann Abraham. _Dose Response Curve Fitting in Python_. Available at https://gist.github.com/yannabraham/5f210fed773785d8b638 "
   ]
  },
  {
   "cell_type": "markdown",
   "metadata": {},
   "source": [
    "$\\LaTeX$"
   ]
  },
  {
   "cell_type": "code",
   "execution_count": null,
   "metadata": {},
   "outputs": [],
   "source": []
  },
  {
   "cell_type": "markdown",
   "metadata": {},
   "source": []
  },
  {
   "cell_type": "code",
   "execution_count": null,
   "metadata": {},
   "outputs": [],
   "source": []
  },
  {
   "cell_type": "code",
   "execution_count": null,
   "metadata": {},
   "outputs": [],
   "source": []
  },
  {
   "cell_type": "code",
   "execution_count": null,
   "metadata": {},
   "outputs": [],
   "source": []
  },
  {
   "cell_type": "code",
   "execution_count": null,
   "metadata": {},
   "outputs": [],
   "source": [
    "residuals_loaded = np.loadtxt('residuals-20210611.csv', delimiter=',', dtype='str')"
   ]
  },
  {
   "cell_type": "code",
   "execution_count": null,
   "metadata": {},
   "outputs": [],
   "source": [
    "residuals_loaded = np.loadtxt('relative_ic50_data-20210611.csv', delimiter=',', dtype='str')"
   ]
  },
  {
   "cell_type": "code",
   "execution_count": null,
   "metadata": {},
   "outputs": [],
   "source": []
  }
 ],
 "metadata": {
  "kernelspec": {
   "display_name": "Python 3 (ipykernel)",
   "language": "python",
   "name": "python3"
  },
  "language_info": {
   "codemirror_mode": {
    "name": "ipython",
    "version": 3
   },
   "file_extension": ".py",
   "mimetype": "text/x-python",
   "name": "python",
   "nbconvert_exporter": "python",
   "pygments_lexer": "ipython3",
   "version": "3.11.0rc1"
  }
 },
 "nbformat": 4,
 "nbformat_minor": 4
}
